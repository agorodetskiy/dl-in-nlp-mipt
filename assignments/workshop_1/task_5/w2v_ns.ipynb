{
 "cells": [
  {
   "cell_type": "code",
   "execution_count": 350,
   "metadata": {},
   "outputs": [],
   "source": [
    "%reset -f"
   ]
  },
  {
   "cell_type": "code",
   "execution_count": 351,
   "metadata": {},
   "outputs": [
    {
     "data": {
      "text/plain": [
       "0"
      ]
     },
     "execution_count": 351,
     "metadata": {},
     "output_type": "execute_result"
    }
   ],
   "source": [
    "import gc\n",
    "import sys\n",
    "import numpy as np\n",
    "from itertools import islice\n",
    "from collections import Counter\n",
    "import torch\n",
    "import matplotlib.pyplot as plt\n",
    "from sklearn.decomposition import TruncatedSVD\n",
    "from sklearn.metrics.pairwise import cosine_similarity\n",
    "gc.collect()"
   ]
  },
  {
   "cell_type": "code",
   "execution_count": 352,
   "metadata": {},
   "outputs": [],
   "source": [
    "def db(expr):\n",
    "    frame = sys._getframe(1)\n",
    "    print(expr + ' : ' + str(eval(expr, frame.f_globals, frame.f_locals)))"
   ]
  },
  {
   "cell_type": "code",
   "execution_count": 353,
   "metadata": {},
   "outputs": [
    {
     "name": "stdout",
     "output_type": "stream",
     "text": [
      "10000\n"
     ]
    }
   ],
   "source": [
    "with open('./dataset/corpus', 'rt') as fp:\n",
    "    corpus = fp.read()\n",
    "\n",
    "corpus = corpus.strip()\n",
    "corpus = corpus.split()[:10000]\n",
    "corpus_size = len(corpus)\n",
    "print(corpus_size)"
   ]
  },
  {
   "cell_type": "code",
   "execution_count": 354,
   "metadata": {},
   "outputs": [],
   "source": [
    "class SkipGramBatcher:\n",
    "    def __init__(self, corpus, window_size=4, batch_size=32):\n",
    "        '''corpus - list of words'''\n",
    "        self.corpus = corpus\n",
    "        self.window_size = window_size\n",
    "        self.batch_size = batch_size\n",
    "        self.make_vocab()\n",
    "        return\n",
    "    \n",
    "    def make_vocab(self):\n",
    "        self.vocab = sorted(set(corpus))\n",
    "        self.V = len(self.vocab)\n",
    "        self.word2index = {w: idx for idx, w in enumerate(self.vocab)}\n",
    "        self.index2word = {idx: w for idx, w in enumerate(self.vocab)}\n",
    "        return\n",
    "    \n",
    "    def batch_gen(self):\n",
    "        '''c - corpus, v - vocab ; i - central, j - side'''\n",
    "        x_batch = np.empty(self.batch_size, dtype=np.int)\n",
    "        y_batch = np.empty(self.batch_size, dtype=np.int)\n",
    "        curr_idx = 0\n",
    "        for c_i, w in enumerate(self.corpus):\n",
    "            v_i = self.word2index[w]\n",
    "            window_left_border = c_i - self.window_size\n",
    "            if window_left_border < 0:\n",
    "                window_left_border = 0\n",
    "            for side_w in self.corpus[window_left_border: c_i] \\\n",
    "                          + self.corpus[c_i + 1 : c_i + self.window_size + 1]:\n",
    "                v_j = self.word2index[side_w]\n",
    "                x_batch[curr_idx] = v_i\n",
    "                y_batch[curr_idx] = v_j\n",
    "                curr_idx += 1\n",
    "                if curr_idx == self.batch_size:\n",
    "                    curr_idx = 0\n",
    "                    yield (x_batch, y_batch)\n",
    "        # drop last\n",
    "        #if curr_idx != 0:\n",
    "            #yield (x_batch, y_batch)"
   ]
  },
  {
   "cell_type": "code",
   "execution_count": 355,
   "metadata": {},
   "outputs": [],
   "source": [
    "def freq_filter(corpus, threshold):\n",
    "    freq_map = Counter(corpus)\n",
    "    filtrator = lambda w: 'UNK' if freq_map[w] <= threshold else w\n",
    "    corpus = map(filtrator, corpus)\n",
    "    return list(corpus)"
   ]
  },
  {
   "cell_type": "code",
   "execution_count": 356,
   "metadata": {},
   "outputs": [],
   "source": [
    "#corpus = freq_filter(corpus, 1)\n",
    "#corpus.count('UNK') / len(corpus)"
   ]
  },
  {
   "cell_type": "code",
   "execution_count": 357,
   "metadata": {},
   "outputs": [],
   "source": [
    "def w2v_forward(x, y, w_1, w_2, k=20):\n",
    "    '''x - (batch_size x V) ohe batch to forward through\n",
    "       y - targets (dim as of x)\n",
    "       w - (V x N) weight matrix'''\n",
    "    V, N = w_1.shape\n",
    "    b = x.shape[0]\n",
    "    \n",
    "    h = x.mm(w_1)\n",
    "    \n",
    "    pos_ids = y\n",
    "    \n",
    "    central_batch = h.view(b, 1, N)\n",
    "    pos_batch = w_2[:, pos_ids].view(b, N, 1)\n",
    "    pos_scores = central_batch.bmm(pos_batch).squeeze()\n",
    "    pos_scores = torch.nn.functional.logsigmoid(pos_scores)\n",
    "    \n",
    "    neg_corp_ids = np.random.randint(0, corpus_size, size=k)\n",
    "    neg_ids = [batcher.word2index[corpus[i]] for i in neg_corp_ids]\n",
    "    while not set(neg_ids).isdisjoint(pos_ids):\n",
    "        print('unlucky gen!')\n",
    "        neg_corp_ids = np.randint(0, corpus_size, size=k)\n",
    "        neg_ids = [batcher.word2index[corpus[i]] for i in neg_corp_ids]\n",
    "    \n",
    "    neg_scores = h.mm(w_2[:, neg_ids])\n",
    "    neg_scores = torch.nn.functional.logsigmoid(-1 * neg_scores)\n",
    "    \n",
    "    loss = -(pos_scores.sum() + neg_scores.sum())\n",
    "    return loss\n",
    "\n",
    "def random_weight(shape):\n",
    "    \"\"\"\n",
    "    Create random Tensors for weights; setting requires_grad=True means that we\n",
    "    want to compute gradients for these Tensors during the backward pass.\n",
    "    We use Kaiming normalization: sqrt(2 / fan_in)\n",
    "    \"\"\"\n",
    "    if len(shape) == 2:  # FC weight\n",
    "        fan_in = shape[0]\n",
    "    else:\n",
    "        fan_in = np.prod(shape[1:]) # conv weight [out_channel, in_channel, kH, kW]\n",
    "    # randn is standard normal distribution generator. \n",
    "    w = torch.randn(shape, dtype=torch.float32) * np.sqrt(2. / fan_in)\n",
    "    w.requires_grad = True\n",
    "    return w"
   ]
  },
  {
   "cell_type": "code",
   "execution_count": 358,
   "metadata": {},
   "outputs": [],
   "source": [
    "batcher = SkipGramBatcher(corpus, batch_size=16)"
   ]
  },
  {
   "cell_type": "code",
   "execution_count": 359,
   "metadata": {},
   "outputs": [
    {
     "name": "stdout",
     "output_type": "stream",
     "text": [
      "2520\n",
      "300\n"
     ]
    }
   ],
   "source": [
    "V = batcher.V\n",
    "N = 300\n",
    "learning_rate = 0.1\n",
    "print_every = 1\n",
    "print(V)\n",
    "print(N)"
   ]
  },
  {
   "cell_type": "code",
   "execution_count": 360,
   "metadata": {},
   "outputs": [],
   "source": [
    "def train(w_1, w_2, optimizer, epochs=1):\n",
    "    \"\"\"    \n",
    "    Inputs:\n",
    "    - optimizer: An Optimizer object we will use to train the model\n",
    "    - epochs: (Optional) A Python integer giving the number of epochs to train for\n",
    "    \"\"\"\n",
    "    loss_values = []\n",
    "    for e in range(epochs):\n",
    "        \n",
    "        loader_train = batcher.batch_gen()\n",
    "        batch_size = batcher.batch_size\n",
    "        epoch_loss = 0\n",
    "        \n",
    "        for t, (x_ids, y_ids) in enumerate(loader_train):\n",
    "            \n",
    "            input_buff = np.zeros((batch_size, V), dtype=np.float32)\n",
    "            input_buff[np.arange(batch_size), x_ids] = 1\n",
    "\n",
    "            x = torch.from_numpy(input_buff)\n",
    "            y = torch.from_numpy(y_ids)\n",
    "\n",
    "            loss = w2v_forward(x, y, w_1, w_2)\n",
    "            #print(type(loss))\n",
    "            #print(loss)\n",
    "\n",
    "            epoch_loss += loss.item()\n",
    "            \n",
    "            loss.backward()\n",
    "            optimizer.step()\n",
    "            optimizer.zero_grad()\n",
    "\n",
    "            if t % print_every == 0:\n",
    "                #print('e: %d | batch: %d, loss = %.9f' % (e, t, loss.item())) # batch loss\n",
    "                pass\n",
    "        loss_values.append(epoch_loss)\n",
    "        print('e: %d | loss = %.9f' % (e, epoch_loss))\n",
    "    return loss_values"
   ]
  },
  {
   "cell_type": "code",
   "execution_count": 361,
   "metadata": {
    "scrolled": true
   },
   "outputs": [
    {
     "name": "stdout",
     "output_type": "stream",
     "text": [
      "e: 0 | loss = 212497.394850413\n",
      "e: 1 | loss = 762.327580353\n",
      "e: 2 | loss = 248.451248485\n",
      "e: 3 | loss = 169.950151584\n",
      "e: 4 | loss = 132.383738679\n",
      "e: 5 | loss = 108.105886179\n",
      "e: 6 | loss = 90.907237545\n",
      "e: 7 | loss = 79.524973627\n",
      "e: 8 | loss = 69.691977457\n",
      "e: 9 | loss = 62.309015244\n",
      "e: 10 | loss = 55.936456238\n",
      "e: 11 | loss = 51.121390616\n",
      "e: 12 | loss = 47.154464226\n",
      "e: 13 | loss = 43.426074421\n",
      "e: 14 | loss = 40.093094168\n",
      "e: 15 | loss = 37.721082776\n"
     ]
    }
   ],
   "source": [
    "w_1 = random_weight((V, N))\n",
    "w_2 = random_weight((N, V))\n",
    "optimizer = torch.optim.SGD([w_1, w_2], lr=learning_rate)\n",
    "\n",
    "loss_values = train(w_1, w_2, optimizer, epochs=16)"
   ]
  },
  {
   "cell_type": "markdown",
   "metadata": {},
   "source": [
    "It took five minutes to train."
   ]
  },
  {
   "cell_type": "code",
   "execution_count": 377,
   "metadata": {},
   "outputs": [],
   "source": [
    "def plot_metric(x, y):\n",
    "    plt.figure(figsize=(16, 8))\n",
    "    plt.plot(x, y, 'o-', label='train')\n",
    "    plt.xlabel('epochs')\n",
    "    plt.ylabel('ns_loss')\n",
    "    plt.legend(loc='best')\n",
    "    plt.grid()\n",
    "    plt.show()"
   ]
  },
  {
   "cell_type": "code",
   "execution_count": 378,
   "metadata": {},
   "outputs": [
    {
     "data": {
      "image/png": "[encoded data removed]",
      "text/plain": [
       "<Figure size 1152x576 with 1 Axes>"
      ]
     },
     "metadata": {
      "needs_background": "light"
     },
     "output_type": "display_data"
    }
   ],
   "source": [
    "plot_metric(range(len(loss_values)), loss_values)"
   ]
  },
  {
   "cell_type": "code",
   "execution_count": 364,
   "metadata": {},
   "outputs": [],
   "source": [
    "W = w_1.data.numpy()"
   ]
  },
  {
   "cell_type": "code",
   "execution_count": 365,
   "metadata": {},
   "outputs": [],
   "source": [
    "def get_word_vector(token):\n",
    "    '''function to map token to corresponding word vector'''\n",
    "    idx = batcher.word2index[token]\n",
    "    return W[idx]"
   ]
  },
  {
   "cell_type": "markdown",
   "metadata": {},
   "source": [
    "### Plot vector progections of 50 most frequent words (beautiful visualization)"
   ]
  },
  {
   "cell_type": "code",
   "execution_count": 366,
   "metadata": {},
   "outputs": [],
   "source": [
    "def reduce_to_k_dim(M, k=2):\n",
    "    n_iter = 10\n",
    "    M_reduced = None\n",
    "    print(\"Running Truncated SVD over %i words...\" % (M.shape[0]))\n",
    "    \n",
    "    svd = TruncatedSVD(n_components=k, n_iter=n_iter)\n",
    "    M_reduced = svd.fit_transform(M)\n",
    "    \n",
    "    print(\"Done.\")\n",
    "    return M_reduced"
   ]
  },
  {
   "cell_type": "code",
   "execution_count": 367,
   "metadata": {},
   "outputs": [
    {
     "name": "stdout",
     "output_type": "stream",
     "text": [
      "Running Truncated SVD over 2520 words...\n",
      "Done.\n"
     ]
    }
   ],
   "source": [
    "W_reduced = reduce_to_k_dim(W)"
   ]
  },
  {
   "cell_type": "code",
   "execution_count": 368,
   "metadata": {},
   "outputs": [],
   "source": [
    "def plot_embeddings(M_reduced, word2Ind, words):\n",
    "    plt.figure(figsize=(10, 16))\n",
    "    for w in words:\n",
    "        idx = word2Ind[w]\n",
    "        x, y = M_reduced[idx]\n",
    "        plt.scatter(x, y, marker='x', color='red')\n",
    "        plt.text(x, y, w, fontsize=11)\n",
    "    ax = plt.gca()\n",
    "    ax.spines['left'].set_position(('data', 0))\n",
    "    ax.spines['bottom'].set_position(('data', 0))\n",
    "    plt.grid()\n",
    "    plt.show()"
   ]
  },
  {
   "cell_type": "code",
   "execution_count": 369,
   "metadata": {},
   "outputs": [],
   "source": [
    "freq_map = Counter(corpus)\n",
    "most_freq_words = sorted(freq_map.items(), key=lambda x: x[-1], reverse=True)\n",
    "most_freq_words = list(zip(*most_freq_words))[0]"
   ]
  },
  {
   "cell_type": "code",
   "execution_count": 370,
   "metadata": {},
   "outputs": [
    {
     "data": {
      "image/png": "[encoded data removed]",
      "text/plain": [
       "<Figure size 720x1152 with 1 Axes>"
      ]
     },
     "metadata": {
      "needs_background": "light"
     },
     "output_type": "display_data"
    }
   ],
   "source": [
    "plot_embeddings(W_reduced, batcher.word2index, most_freq_words[:100])"
   ]
  },
  {
   "cell_type": "markdown",
   "metadata": {},
   "source": [
    "### qualitative evaluations of word vectors: nearest neighbors, word analogies"
   ]
  },
  {
   "cell_type": "code",
   "execution_count": 371,
   "metadata": {},
   "outputs": [],
   "source": [
    "def top_similar(token, n_similar):\n",
    "    sim_matrix = cosine_similarity(W)\n",
    "    idx = batcher.word2index['revolution']\n",
    "    most_similar = list( np.argsort(sim_matrix[idx])[::-1] )\n",
    "    most_similar.remove(idx)\n",
    "    for w in [batcher.index2word[i] for i in most_similar[:n_similar]]:\n",
    "        print(w)"
   ]
  },
  {
   "cell_type": "code",
   "execution_count": 372,
   "metadata": {},
   "outputs": [
    {
     "name": "stdout",
     "output_type": "stream",
     "text": [
      "french\n",
      "english\n",
      "up\n",
      "whilst\n",
      "prisons\n",
      "anomie\n",
      "laws\n",
      "stoic\n",
      "economic\n",
      "figureheads\n",
      "max\n",
      "economics\n",
      "taken\n",
      "puente\n",
      "using\n",
      "refers\n",
      "possession\n",
      "what\n",
      "language\n",
      "never\n",
      "labor\n",
      "strongly\n",
      "early\n",
      "aid\n",
      "six\n",
      "capitalism\n",
      "while\n",
      "governance\n",
      "here\n",
      "war\n"
     ]
    }
   ],
   "source": [
    "top_similar('revolution', 30)"
   ]
  },
  {
   "cell_type": "code",
   "execution_count": 373,
   "metadata": {},
   "outputs": [],
   "source": [
    "def solve_analogy(positive, negative, n_similar):\n",
    "    pos_vec = [get_word_vector(w) for w in positive]\n",
    "    neg_vec = [get_word_vector(w) for w in negative]\n",
    "\n",
    "    vec = np.zeros(pos_vec[0].size)\n",
    "    for v in pos_vec:\n",
    "        vec += v\n",
    "    for v in neg_vec:\n",
    "        vec -= v\n",
    "        \n",
    "    sim_matrix = cosine_similarity(vec[np.newaxis, :] , W)\n",
    "    most_similar = list(np.argsort(sim_matrix[0])[::-1])\n",
    "    \n",
    "    for w in positive + negative:\n",
    "        most_similar.remove(batcher.word2index[w])\n",
    "        \n",
    "    for w in [batcher.index2word[i] for i in most_similar if len(batcher.index2word[i]) > 3][:n_similar]:\n",
    "        print(w)"
   ]
  },
  {
   "cell_type": "markdown",
   "metadata": {},
   "source": [
    "### a / b = x / y"
   ]
  },
  {
   "cell_type": "code",
   "execution_count": 454,
   "metadata": {},
   "outputs": [],
   "source": [
    "a = 'french'\n",
    "b = 'revolution'\n",
    "x = 'english'"
   ]
  },
  {
   "cell_type": "code",
   "execution_count": 456,
   "metadata": {},
   "outputs": [],
   "source": [
    "positive = [x, b]\n",
    "negative = [a]"
   ]
  },
  {
   "cell_type": "code",
   "execution_count": 457,
   "metadata": {},
   "outputs": [
    {
     "name": "stdout",
     "output_type": "stream",
     "text": [
      "prisons\n",
      "laws\n",
      "archons\n",
      "anomie\n",
      "taken\n",
      "economic\n",
      "economics\n",
      "governance\n",
      "stoic\n",
      "language\n",
      "capitalism\n",
      "while\n",
      "what\n",
      "banking\n",
      "using\n",
      "individuals\n",
      "early\n",
      "hunter\n",
      "strongly\n",
      "without\n"
     ]
    }
   ],
   "source": [
    "solve_analogy(positive, negative, 20)"
   ]
  }
 ],
 "metadata": {
  "kernelspec": {
   "display_name": "Python 3",
   "language": "python",
   "name": "python3"
  },
  "language_info": {
   "codemirror_mode": {
    "name": "ipython",
    "version": 3
   },
   "file_extension": ".py",
   "mimetype": "text/x-python",
   "name": "python",
   "nbconvert_exporter": "python",
   "pygments_lexer": "ipython3",
   "version": "3.7.0"
  }
 },
 "nbformat": 4,
 "nbformat_minor": 2
}
