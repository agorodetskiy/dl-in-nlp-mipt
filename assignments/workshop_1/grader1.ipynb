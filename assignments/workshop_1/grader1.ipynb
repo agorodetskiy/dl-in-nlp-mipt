{
 "cells": [
  {
   "cell_type": "markdown",
   "metadata": {},
   "source": [
    "# Workshop 1 grader\n",
    "\n",
    "## Task 1\n",
    "\n",
    "Use points specified in the notebook. Final score = sum(points) * 10 / 25 rounded up to the nearest integer\n",
    "\n",
    "## Task 2\n",
    "\n",
    "* 5 points for working batcher:\n",
    "    * all batches have same shape, shape is right\n",
    "    * context and central words are truly from one window\n",
    "* 3 points for good preprocessing:\n",
    "    * only frequent tokens are used\n",
    "    * this moment does not affect batch shape (non-frequent words are deleted from the corpus or UNK token is used)\n",
    "* 2 points for clean code\n",
    "\n",
    "Discuss why this way of prerpocessing was chosen. Its pros and cons.\n",
    "\n",
    "## Tasks 3-5\n",
    "\n",
    "* 4 points for trained vectors\n",
    "* 1 point for plotted loss that is converged\n",
    "* 3 points for visualizations that show semantic / syntactic structure of word2vec\n",
    "* 2 points for qualitative evaluations: working word analogies, nearest neighbours\n",
    "\n",
    "* minus 3 points if there is no easy way to get a word vector like `my_v2w['word']`\n",
    "\n",
    "* 2 extra points for quantitative evaluation\n",
    "\n",
    "Final score = max(sum(points), 10)\n",
    "\n",
    "## Task 6\n",
    "\n",
    "Contact @dropout05 if you completed the task"
   ]
  }
 ],
 "metadata": {
  "kernelspec": {
   "display_name": "Python 3",
   "language": "python",
   "name": "python3"
  },
  "language_info": {
   "codemirror_mode": {
    "name": "ipython",
    "version": 3
   },
   "file_extension": ".py",
   "mimetype": "text/x-python",
   "name": "python",
   "nbconvert_exporter": "python",
   "pygments_lexer": "ipython3",
   "version": "3.6.7"
  }
 },
 "nbformat": 4,
 "nbformat_minor": 2
}
